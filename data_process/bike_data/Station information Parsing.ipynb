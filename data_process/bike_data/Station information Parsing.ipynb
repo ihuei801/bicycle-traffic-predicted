{
 "cells": [
  {
   "cell_type": "code",
   "execution_count": 1,
   "metadata": {
    "collapsed": true
   },
   "outputs": [],
   "source": [
    "import io, time, json\n",
    "import requests\n",
    "from bs4 import BeautifulSoup\n",
    "import pandas as pd\n",
    "import numpy as np\n",
    "import glob\n",
    "import re"
   ]
  },
  {
   "cell_type": "code",
   "execution_count": 6,
   "metadata": {
    "collapsed": false
   },
   "outputs": [
    {
     "name": "stdout",
     "output_type": "stream",
     "text": [
      "<class 'bs4.BeautifulSoup'>\n"
     ]
    }
   ],
   "source": [
    "soup = BeautifulSoup(open(\"stations.xml\"), \"lxml\")\n",
    "print type(soup)"
   ]
  },
  {
   "cell_type": "code",
   "execution_count": 8,
   "metadata": {
    "collapsed": true
   },
   "outputs": [],
   "source": [
    "station_list = soup.find_all('station')"
   ]
  },
  {
   "cell_type": "code",
   "execution_count": 19,
   "metadata": {
    "collapsed": false
   },
   "outputs": [
    {
     "name": "stdout",
     "output_type": "stream",
     "text": [
      "<station><id>1</id><name>Eads St &amp; 15th St S</name><terminalname>31000</terminalname><lastcommwithserver>1478040900207</lastcommwithserver><lat>38.858971</lat><long>-77.05323</long><installed>true</installed><locked>false</locked><installdate>0</installdate><removaldate></removaldate><temporary>false</temporary><public>true</public><nbbikes>6</nbbikes><nbemptydocks>8</nbemptydocks><latestupdatetime>1478040899170</latestupdatetime></station>\n"
     ]
    }
   ],
   "source": [
    "print station_list[0]"
   ]
  },
  {
   "cell_type": "code",
   "execution_count": 24,
   "metadata": {
    "collapsed": false
   },
   "outputs": [
    {
     "name": "stdout",
     "output_type": "stream",
     "text": [
      "1 Eads St & 15th St S 31000\n"
     ]
    }
   ],
   "source": [
    "print station_list[0].id.string, station_list[0].find('name').string, station_list[0].terminalname.string"
   ]
  },
  {
   "cell_type": "code",
   "execution_count": 27,
   "metadata": {
    "collapsed": true
   },
   "outputs": [],
   "source": [
    "result = []\n",
    "for each_tag in station_list:\n",
    "    station_dict = {}\n",
    "    station_dict['id'] = each_tag.id.string\n",
    "    station_dict['name'] = each_tag.find('name').string\n",
    "    station_dict['terminalname'] = each_tag.terminalname.string\n",
    "    station_dict['lat'] = float(each_tag.lat.string)\n",
    "    station_dict['long'] = float(each_tag.find('long').string)\n",
    "    result.append(station_dict)\n",
    "\n",
    "    "
   ]
  },
  {
   "cell_type": "code",
   "execution_count": 29,
   "metadata": {
    "collapsed": true
   },
   "outputs": [],
   "source": [
    "station_df = pd.DataFrame.from_dict(result)"
   ]
  },
  {
   "cell_type": "code",
   "execution_count": 43,
   "metadata": {
    "collapsed": false
   },
   "outputs": [
    {
     "name": "stdout",
     "output_type": "stream",
     "text": [
      "Index([u'ID', u'LAT', u'LONG', u'NAME', u'TERMINALNAME'], dtype='object')\n",
      "False\n",
      "Index([u'ID', u'LAT', u'LONG', u'NAME', u'TERMINALNAME'], dtype='object')\n"
     ]
    }
   ],
   "source": [
    "print station_df.columns\n",
    "print 'id' in station_df.columns\n",
    "station_df.columns = [each.upper() for each in station_df.columns]\n",
    "print station_df.columns"
   ]
  },
  {
   "cell_type": "code",
   "execution_count": 33,
   "metadata": {
    "collapsed": false
   },
   "outputs": [
    {
     "name": "stdout",
     "output_type": "stream",
     "text": [
      "  id        lat       long                                        name  \\\n",
      "0  1  38.858971 -77.053230                         Eads St & 15th St S   \n",
      "1  2  38.857250 -77.053320                             18th & Eads St.   \n",
      "2  3  38.856425 -77.049232                           20th & Crystal Dr   \n",
      "3  4  38.860170 -77.049593                           15th & Crystal Dr   \n",
      "4  5  38.857866 -77.059490  Aurora Hills Community Ctr/18th & Hayes St   \n",
      "\n",
      "  terminalname  \n",
      "0        31000  \n",
      "1        31001  \n",
      "2        31002  \n",
      "3        31003  \n",
      "4        31004  \n"
     ]
    }
   ],
   "source": [
    "print station_df.head()\n",
    "station_df.to_csv('station.csv', index=False)"
   ]
  }
 ],
 "metadata": {
  "kernelspec": {
   "display_name": "Python 2",
   "language": "python",
   "name": "python2"
  },
  "language_info": {
   "codemirror_mode": {
    "name": "ipython",
    "version": 2
   },
   "file_extension": ".py",
   "mimetype": "text/x-python",
   "name": "python",
   "nbconvert_exporter": "python",
   "pygments_lexer": "ipython2",
   "version": "2.7.11"
  }
 },
 "nbformat": 4,
 "nbformat_minor": 1
}
